{
 "cells": [
  {
   "cell_type": "markdown",
   "id": "f67acfbc",
   "metadata": {},
   "source": [
    "# BMI Calculator"
   ]
  },
  {
   "cell_type": "code",
   "execution_count": null,
   "id": "41261159",
   "metadata": {},
   "outputs": [],
   "source": [
    "#BMI = (weight * 703) / (height * height)"
   ]
  },
  {
   "cell_type": "code",
   "execution_count": null,
   "id": "7aade278",
   "metadata": {},
   "outputs": [
    {
     "name": "stdout",
     "output_type": "stream",
     "text": [
      "Enter your name:\n"
     ]
    }
   ],
   "source": [
    "name = input(\"Enter your name:\")\n",
    "\n",
    "weight = int(input(\"Enter your weight in pounds:\"))\n",
    "\n",
    "height = int(input(\"Enter your height in inches:\"))\n",
    "\n",
    "BMI = (weight * 703) / (height * height)\n",
    "\n",
    "print(BMI)\n",
    "\n",
    "if BMI<0:\n",
    "    if (BMI<18.5):\n",
    "        print(name + \", you are underweight.\")\n",
    "    elif (BMI<24.9) :\n",
    "        print (name + \", you are normal weight.\")\n",
    "    elif (BMI<29.9) :\n",
    "        print (name + \", you are overweight.\")\n",
    "    elif (BMI<34.9) :\n",
    "        print (name + \", you are obese.\")\n",
    "    elif (BMI<39.9) :\n",
    "        print (name + \", you are severly obese.\")\n",
    "    else:\n",
    "        print(name + \", you are morbidly obese\")\n",
    "        \n",
    "else:\n",
    "    print(\"Enter valid input\")\n"
   ]
  }
 ],
 "metadata": {
  "kernelspec": {
   "display_name": "Python 3 (ipykernel)",
   "language": "python",
   "name": "python3"
  },
  "language_info": {
   "codemirror_mode": {
    "name": "ipython",
    "version": 3
   },
   "file_extension": ".py",
   "mimetype": "text/x-python",
   "name": "python",
   "nbconvert_exporter": "python",
   "pygments_lexer": "ipython3",
   "version": "3.11.5"
  }
 },
 "nbformat": 4,
 "nbformat_minor": 5
}
